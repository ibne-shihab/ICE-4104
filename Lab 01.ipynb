{
 "cells": [
  {
   "cell_type": "code",
   "execution_count": 1,
   "metadata": {},
   "outputs": [],
   "source": [
    "bw = 33000  # Bandwidth in Hz\n",
    "schannel_bw = 25  # Single channel bandwidth in Hz"
   ]
  },
  {
   "cell_type": "code",
   "execution_count": 2,
   "metadata": {},
   "outputs": [
    {
     "name": "stdout",
     "output_type": "stream",
     "text": [
      "Channel Bandwidth...\n",
      "50\n",
      "Total available channels: 660.0\n"
     ]
    }
   ],
   "source": [
    "print(\"Channel Bandwidth...\")\n",
    "dup_ch_bw = 2 * schannel_bw  # Duplex channel bandwidth (both directions)\n",
    "t_ch = bw / dup_ch_bw  # Total number of available channels\n",
    "print(dup_ch_bw)\n",
    "print(\"Total available channels:\", t_ch)"
   ]
  },
  {
   "cell_type": "code",
   "execution_count": 3,
   "metadata": {},
   "outputs": [
    {
     "name": "stdout",
     "output_type": "stream",
     "text": [
      "Total control channels: 20.0\n"
     ]
    }
   ],
   "source": [
    "# Control channel bandwidth\n",
    "cc_bw = 1000  # Control channel bandwidth in Hz\n",
    "t_cc = cc_bw / dup_ch_bw  # Number of control channels\n",
    "print(\"Total control channels:\", t_cc)\n",
    "# N represents different cluster sizes\n",
    "N = [4, 7, 12]  # Cluster sizes"
   ]
  },
  {
   "cell_type": "code",
   "execution_count": 4,
   "metadata": {},
   "outputs": [
    {
     "name": "stdout",
     "output_type": "stream",
     "text": [
      "Cluster size: 4\n",
      "Channels per cell: 165\n",
      "Control channels: 5\n",
      "Voice channels: 160\n",
      "Cluster size: 7\n",
      "Channels per cell: 94\n",
      "Control channels: 3\n",
      "Voice channels: 91\n",
      "Cluster size: 12\n",
      "Channels per cell: 55\n",
      "Control channels: 2\n",
      "Voice channels: 53\n"
     ]
    }
   ],
   "source": [
    "\n",
    "# Loop through each cluster size in N\n",
    "for i in range(3):\n",
    "    # Calculate channels per cell for each cluster size\n",
    "    ch = t_ch / N[i]\n",
    "    ch_per_cell = round(ch)  # Rounded channels per cell\n",
    "    print(\"Cluster size:\", N[i])\n",
    "    print(\"Channels per cell:\", ch_per_cell)\n",
    "    # Calculate control channels per cell\n",
    "    c = t_cc / N[i]\n",
    "    cc = round(c)\n",
    "    # Calculate voice channels per cell\n",
    "    v = (t_ch - t_cc) / N[i]\n",
    "    vc = round(v)\n",
    "    # Display the results for control and voice channels\n",
    "    print(\"Control channels:\", cc)\n",
    "    print(\"Voice channels:\", vc)\n"
   ]
  }
 ],
 "metadata": {
  "kernelspec": {
   "display_name": "Cryptography",
   "language": "python",
   "name": "cryptography"
  },
  "language_info": {
   "codemirror_mode": {
    "name": "ipython",
    "version": 3
   },
   "file_extension": ".py",
   "mimetype": "text/x-python",
   "name": "python",
   "nbconvert_exporter": "python",
   "pygments_lexer": "ipython3",
   "version": "3.9.0"
  }
 },
 "nbformat": 4,
 "nbformat_minor": 2
}
