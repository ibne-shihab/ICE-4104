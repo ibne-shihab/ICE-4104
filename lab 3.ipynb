{
 "cells": [
  {
   "cell_type": "code",
   "execution_count": 1,
   "metadata": {},
   "outputs": [
    {
     "name": "stdout",
     "output_type": "stream",
     "text": [
      "Blocking probability: 0.005\n",
      "Traffic intensity per user: 0.1\n",
      "Traffic intensity: [5.00e-03 1.13e+00 3.96e+00 1.11e+01 8.09e+01]\n",
      "Number of channels: [  1   5  10  20 100]\n",
      "Number of users: [  0.  11.  40. 111. 809.]\n"
     ]
    }
   ],
   "source": [
    "import numpy as np\n",
    "\n",
    "# Initialize variables\n",
    "Gos = 0.5 / 100  # Grade of service (blocking probability)\n",
    "Au = 0.1  # Traffic intensity per user\n",
    "A = np.array([0.005, 1.13, 3.96, 11.1, 80.9])  # Traffic intensity\n",
    "c = np.array([1, 5, 10, 20, 100])  # Number of channels\n",
    "\n",
    "# Displaying the given values\n",
    "print('Blocking probability:', Gos)\n",
    "print('Traffic intensity per user:', Au)\n",
    "print('Traffic intensity:', A)\n",
    "print('Number of channels:', c)\n",
    "\n",
    "# Calculate the number of users for each value of A\n",
    "U = A / Au  # Total traffic divided by traffic per user gives number of users\n",
    "u = np.round(U)  # Round to nearest whole number\n",
    "print('Number of users:', u)\n"
   ]
  }
 ],
 "metadata": {
  "kernelspec": {
   "display_name": "Cryptography",
   "language": "python",
   "name": "cryptography"
  },
  "language_info": {
   "codemirror_mode": {
    "name": "ipython",
    "version": 3
   },
   "file_extension": ".py",
   "mimetype": "text/x-python",
   "name": "python",
   "nbconvert_exporter": "python",
   "pygments_lexer": "ipython3",
   "version": "3.9.0"
  }
 },
 "nbformat": 4,
 "nbformat_minor": 2
}
