{
 "cells": [
  {
   "cell_type": "code",
   "execution_count": null,
   "metadata": {},
   "outputs": [
    {
     "name": "stdout",
     "output_type": "stream",
     "text": [
      "(a) Transmitter power, Pt in dBm: 47 dBm\n",
      "(b) Transmitter power, Pt in dBW: 17 dBW\n",
      "(c) Received power, Pr in dBm: -24.54 dBm\n",
      "(d) Received power, Pr at 10km in dBm: -64.54 dBm\n"
     ]
    }
   ],
   "source": [
    "import numpy as np\n",
    "# Define constants\n",
    "pt = 50          # Transmitted power in watts\n",
    "fc = 900         # Carrier frequency in MHz\n",
    "gt = 1           # Transmitter antenna gain\n",
    "gr = 1           # Receiver antenna gain\n",
    "d = 100          # Free space distance in meters\n",
    "L = 1            # System loss factor\n",
    "c = 3 * 10**8    # Speed of light in m/s\n",
    "\n",
    "# Calculate wavelength (lambda)\n",
    "lambda_ = c / (fc * 10**6)  # Converting fc from MHz to Hz\n",
    "# Question (a): Transmitter power in dBm\n",
    "tr_dBm = np.ceil(10 * np.log10(pt * 1000))\n",
    "print(f\"(a) Transmitter power, Pt in dBm: {tr_dBm:.0f} dBm\")\n",
    "# Question (b): Transmitter power in dBW\n",
    "tr_dBW = np.ceil(10 * np.log10(pt))\n",
    "print(f\"(b) Transmitter power, Pt in dBW: {tr_dBW:.0f} dBW\")\n",
    "# Question (c): Received power at 100 meters in dBm\n",
    "c_value = (pt * gt * gr * (lambda_ ** 2)) / ((4 * np.pi) ** 2 * d ** 2 * L) * 1000\n",
    "Pr = 10 * np.log10(c_value)\n",
    "print(f\"(c) Received power, Pr in dBm: {Pr:.2f} dBm\")\n",
    "# Question (d): Received power at 10 km in dBm\n",
    "d_km = 10000  # Distance of 10 km in meters\n",
    "Pr_10km = Pr + (20 * np.log10(d / d_km))\n",
    "print(f\"(d) Received power, Pr at 10km in dBm: {Pr_10km:.2f} dBm\")\n"
   ]
  }
 ],
 "metadata": {
  "kernelspec": {
   "display_name": "Cryptography",
   "language": "python",
   "name": "cryptography"
  },
  "language_info": {
   "codemirror_mode": {
    "name": "ipython",
    "version": 3
   },
   "file_extension": ".py",
   "mimetype": "text/x-python",
   "name": "python",
   "nbconvert_exporter": "python",
   "pygments_lexer": "ipython3",
   "version": "3.9.0"
  }
 },
 "nbformat": 4,
 "nbformat_minor": 2
}
