{
 "cells": [
  {
   "cell_type": "code",
   "execution_count": 1,
   "metadata": {},
   "outputs": [
    {
     "name": "stdout",
     "output_type": "stream",
     "text": [
      "(a)\n",
      "Number of cells: 31\n",
      "(b)\n",
      "Number of channels per cell: 95\n",
      "(c)\n",
      "Traffic intensity per cell: 84\n",
      "(d)\n",
      "Maximum carried traffic: 2604\n",
      "(e)\n",
      "Total number of users: 86800.0\n",
      "(f)\n",
      "Number of mobiles per channel: 130\n",
      "(g)\n",
      "Theoretical maximum number of users: 2945\n"
     ]
    }
   ],
   "source": [
    "import math\n",
    "area = 1300\n",
    "radius = 4\n",
    "each_cell_covers = math.floor(2.5981 * radius ** 2)\n",
    "print('(a)')\n",
    "number_of_cells = math.floor(area / each_cell_covers)\n",
    "print(f'Number of cells: {number_of_cells}')\n",
    "allocated_spectrum = 40000\n",
    "channel_width = 60\n",
    "frequency_reuse_factor = 7\n",
    "print('(b)')\n",
    "number_of_channel_per_cell = math.floor(allocated_spectrum / (channel_width * frequency_reuse_factor))\n",
    "print(f'Number of channels per cell: {number_of_channel_per_cell}')\n",
    "print('(c)')\n",
    "traffic_intensity_per_cell = 84\n",
    "print(f'Traffic intensity per cell: {traffic_intensity_per_cell}')\n",
    "print('(d)')\n",
    "maximum_carried_traffic = number_of_cells * traffic_intensity_per_cell\n",
    "print(f'Maximum carried traffic: {maximum_carried_traffic}')\n",
    "traffic_per_user = 0.03\n",
    "print('(e)')\n",
    "total_number_of_users = maximum_carried_traffic / traffic_per_user\n",
    "print(f'Total number of users: {total_number_of_users}')\n",
    "number_of_channels = number_of_channel_per_cell * frequency_reuse_factor\n",
    "print('(f)')\n",
    "number_of_mobile_per_channel = math.floor(total_number_of_users / number_of_channels)\n",
    "print(f'Number of mobiles per channel: {number_of_mobile_per_channel}')\n",
    "print('(g)')\n",
    "theoretical_maximum_users = number_of_cells * number_of_channel_per_cell\n",
    "print(f'Theoretical maximum number of users: {theoretical_maximum_users}')\n"
   ]
  }
 ],
 "metadata": {
  "kernelspec": {
   "display_name": "Cryptography",
   "language": "python",
   "name": "cryptography"
  },
  "language_info": {
   "codemirror_mode": {
    "name": "ipython",
    "version": 3
   },
   "file_extension": ".py",
   "mimetype": "text/x-python",
   "name": "python",
   "nbconvert_exporter": "python",
   "pygments_lexer": "ipython3",
   "version": "3.9.0"
  }
 },
 "nbformat": 4,
 "nbformat_minor": 2
}
