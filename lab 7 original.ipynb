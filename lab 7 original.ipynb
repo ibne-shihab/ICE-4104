{
 "cells": [
  {
   "cell_type": "code",
   "execution_count": 1,
   "metadata": {},
   "outputs": [
    {
     "name": "stdout",
     "output_type": "stream",
     "text": [
      "The path loss in urban areas, Lp = 137.29 dB\n"
     ]
    }
   ],
   "source": [
    "import numpy as np\n",
    "# Define constants\n",
    "hte = 100  # Effective transmitter (base station) antenna height in meters\n",
    "hre = 2    # Effective receiver (mobile) antenna height in meters\n",
    "fc = 900   # Frequency in MHz\n",
    "d = 4      # T-R separation distance in kilometers\n",
    "# Calculate the correction factor using the Okumura-Hata model\n",
    "a_hre = (3.2 * (np.log10(11.75 * hre)) ** 2) - 4.97\n",
    "\n",
    "# Calculate Path Loss in urban areas\n",
    "Lp = 69.55 + 26.16 * np.log10(fc) - 13.82 * np.log10(hte) - a_hre + \\\n",
    "     ((44.9 - 6.55 * np.log10(hte)) * np.log10(d))\n",
    "\n",
    "print(f'The path loss in urban areas, Lp = {Lp:.2f} dB')\n"
   ]
  }
 ],
 "metadata": {
  "kernelspec": {
   "display_name": "Cryptography",
   "language": "python",
   "name": "cryptography"
  },
  "language_info": {
   "codemirror_mode": {
    "name": "ipython",
    "version": 3
   },
   "file_extension": ".py",
   "mimetype": "text/x-python",
   "name": "python",
   "nbconvert_exporter": "python",
   "pygments_lexer": "ipython3",
   "version": "3.9.0"
  }
 },
 "nbformat": 4,
 "nbformat_minor": 2
}
