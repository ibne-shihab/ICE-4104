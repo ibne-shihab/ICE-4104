{
 "cells": [
  {
   "cell_type": "code",
   "execution_count": 1,
   "metadata": {},
   "outputs": [
    {
     "name": "stdout",
     "output_type": "stream",
     "text": [
      "(a) Number of users per square km: 62 users/sq km\n",
      "\n",
      "(b) The probability that a delayed call will have to wait: 56.29%\n",
      "\n",
      "(c) The probability that a call will be delayed: 2.81%\n",
      "\n"
     ]
    }
   ],
   "source": [
    "import numpy as np\n",
    "# Define constants\n",
    "R = 1.387              # Cell Radius\n",
    "n = 4                  # Number of cells\n",
    "N = 60                 # Total number of channels\n",
    "area = round(2.5981 * R**2)  # Area covered per cell\n",
    "C = N / n              # Number of channels per cell\n",
    "A = 9                  # Traffic intensity at c=15, GOS=0.05, Au=0.029 from Erlang C chart\n",
    "\n",
    "# Question (a)\n",
    "Au = 0.029             # Traffic per user\n",
    "U = np.floor(A / Au)   # Number of users\n",
    "U_per = round(U / area)  # Number of users per square km\n",
    "print(f'(a) Number of users per square km: {U_per} users/sq km\\n')\n",
    "\n",
    "# Question (b)\n",
    "lemda = 1              # lambda = 1 hour\n",
    "H = (Au / lemda) * 3600  # Holding time in seconds\n",
    "t = 10                 # Delay time in seconds\n",
    "Prb = np.exp(-((C - A) * t) / H)  # Probability that a delayed call will have to wait\n",
    "print(f'(b) The probability that a delayed call will have to wait: {Prb * 100:.2f}%\\n')\n",
    "\n",
    "# Question (c)\n",
    "Prc = 0.05 * Prb * 100  # 5% probability of delayed call\n",
    "print(f'(c) The probability that a call will be delayed: {Prc:.2f}%\\n')\n"
   ]
  }
 ],
 "metadata": {
  "kernelspec": {
   "display_name": "Cryptography",
   "language": "python",
   "name": "cryptography"
  },
  "language_info": {
   "codemirror_mode": {
    "name": "ipython",
    "version": 3
   },
   "file_extension": ".py",
   "mimetype": "text/x-python",
   "name": "python",
   "nbconvert_exporter": "python",
   "pygments_lexer": "ipython3",
   "version": "3.9.0"
  }
 },
 "nbformat": 4,
 "nbformat_minor": 2
}
