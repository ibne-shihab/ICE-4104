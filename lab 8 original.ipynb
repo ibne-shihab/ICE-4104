{
 "cells": [
  {
   "cell_type": "code",
   "execution_count": 1,
   "metadata": {},
   "outputs": [
    {
     "name": "stdout",
     "output_type": "stream",
     "text": [
      "The path loss in high-rise urban areas, Lp = 68.91 dB\n"
     ]
    }
   ],
   "source": [
    "import numpy as np\n",
    "\n",
    "# Define constants\n",
    "fc = 1.8  # Frequency in GHz\n",
    "hb = 20   # Effective transmitter (base station) antenna height in meters\n",
    "\n",
    "# Calculate T-R separation distance in kilometers\n",
    "d = (np.sqrt(20**2 + 30**2)) / 1000  # Convert meters to kilometers\n",
    "\n",
    "# Calculate Path Loss in high-rise urban areas\n",
    "Lp = 135.41 + (12.49 * np.log10(fc)) - (4.99 * np.log10(hb)) + \\\n",
    "     ((46.84 - 2.34 * np.log10(hb)) * np.log10(d))\n",
    "\n",
    "print(f'The path loss in high-rise urban areas, Lp = {Lp:.2f} dB')\n"
   ]
  }
 ],
 "metadata": {
  "kernelspec": {
   "display_name": "Cryptography",
   "language": "python",
   "name": "cryptography"
  },
  "language_info": {
   "codemirror_mode": {
    "name": "ipython",
    "version": 3
   },
   "file_extension": ".py",
   "mimetype": "text/x-python",
   "name": "python",
   "nbconvert_exporter": "python",
   "pygments_lexer": "ipython3",
   "version": "3.9.0"
  }
 },
 "nbformat": 4,
 "nbformat_minor": 2
}
