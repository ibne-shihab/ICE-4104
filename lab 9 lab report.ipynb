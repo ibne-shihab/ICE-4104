{
 "cells": [
  {
   "cell_type": "code",
   "execution_count": null,
   "metadata": {},
   "outputs": [
    {
     "name": "stdout",
     "output_type": "stream",
     "text": [
      "For (a)\n",
      "---------\n",
      "Length of the antenna: 0.083 m\n",
      "Gain of the antenna: 1.8 = 2.55 dB\n",
      "\n",
      "For (b)\n",
      "---------\n",
      "Electric Field, Er(d): 0.000113097 V/m\n",
      "Effective Aperture, Ae: 0.016 m^2\n",
      "Received power at 5 km distance Er(5 km): -122.679 dBW\n"
     ]
    }
   ],
   "source": [
    "import numpy as np\n",
    "# Define constants\n",
    "f = 900         # Frequency in MHz\n",
    "g = 2.55        # Gain of antenna in dB\n",
    "# Question (a)\n",
    "gain = 10 ** (g / 10)  # Convert gain from dB to linear scale\n",
    "lemda = (3 * 10**8) / (f * 10**6)  # Wavelength in meters\n",
    "L = lemda / 4  # Antenna length\n",
    "print('For (a)')\n",
    "print('---------')\n",
    "print(f'Length of the antenna: {L:.3f} m')\n",
    "print(f'Gain of the antenna: {gain:.1f} = {g:.2f} dB\\n')\n",
    "# Question (b)\n",
    "print('For (b)')\n",
    "print('---------')\n",
    "d = 5000               # T-R separation distance in meters\n",
    "E0 = 10**-3            # Electric field\n",
    "d0 = 1000              # Transmitter distance in meters\n",
    "ht = 50                # Transmitting antenna height in meters\n",
    "hr = 1.5               # Receiving antenna height in meters\n",
    "# Electric Field\n",
    "Er_d = (2 * E0 * d0 * 2 * np.pi * ht * hr) / (lemda * d**2)\n",
    "# Effective Aperture\n",
    "Ae = (gain * lemda**2) / (4 * np.pi)\n",
    "# Received power at a distance d\n",
    "Pr_d = (Er_d**2 / (120 * np.pi)) * Ae\n",
    "Pr_dB = 10 * np.log10(Pr_d)\n",
    "print(f'Electric Field, Er(d): {Er_d:.9f} V/m')\n",
    "print(f'Effective Aperture, Ae: {Ae:.3f} m^2')\n",
    "print(f'Received power at 5 km distance Er(5 km): {Pr_dB:.3f} dBW')\n"
   ]
  }
 ],
 "metadata": {
  "kernelspec": {
   "display_name": "Cryptography",
   "language": "python",
   "name": "cryptography"
  },
  "language_info": {
   "codemirror_mode": {
    "name": "ipython",
    "version": 3
   },
   "file_extension": ".py",
   "mimetype": "text/x-python",
   "name": "python",
   "nbconvert_exporter": "python",
   "pygments_lexer": "ipython3",
   "version": "3.9.0"
  }
 },
 "nbformat": 4,
 "nbformat_minor": 2
}
