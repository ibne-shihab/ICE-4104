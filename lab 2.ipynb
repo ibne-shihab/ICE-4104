{
 "cells": [
  {
   "cell_type": "code",
   "execution_count": null,
   "metadata": {},
   "outputs": [
    {
     "name": "stdout",
     "output_type": "stream",
     "text": [
      "n: 4\n",
      "Frequency reuse factor: 4.58257569495584\n",
      "Signal to interference ratio: 18.66287339084195\n",
      "n: 3\n",
      "Frequency reuse factor: 4.58257569495584\n",
      "Signal to interference ratio: 12.051776917172353\n",
      "n: 3\n",
      "New frequency reuse factor: 6.0\n",
      "New Signal to interference ratio: 15.563025007672874\n"
     ]
    }
   ],
   "source": [
    "pip install\n",
    "import math\n",
    "# Initialize variables\n",
    "R_SI = 15  # Reference Signal to Interference ratio\n",
    "io = 6  # Interference\n",
    "n = [4, 3]  # Power values\n",
    "\n",
    "# Loop through each element of n\n",
    "for a in range(2):\n",
    "    N = 7  # Initial reuse pattern size\n",
    "    Q = math.sqrt(3 * N)  # Frequency reuse factor\n",
    "    print('n:', n[a])\n",
    "    print('Frequency reuse factor:', Q)\n",
    "    \n",
    "    # Calculate Signal to Interference Ratio (SI)\n",
    "    SI = 10 * math.log10((1 / io) * (Q ** n[a]))\n",
    "    print('Signal to interference ratio:', SI)\n",
    "    \n",
    "    # Check if SI is less than the reference value R_SI\n",
    "    if SI < R_SI:\n",
    "        i, j = 2, 2  # Parameters for new N\n",
    "        N = (i ** 2) + (i * j) + (j ** 2)  # New reuse pattern size\n",
    "        Q = math.sqrt(3 * N)  # Recalculate frequency reuse factor\n",
    "        print('n:', n[a])\n",
    "        print('New frequency reuse factor:', Q)\n",
    "        \n",
    "        # Calculate new Signal to Interference Ratio (SI1)\n",
    "        SI1 = 10 * math.log10((1 / io) * (Q ** n[a]))\n",
    "        print('New Signal to interference ratio:', SI1)\n"
   ]
  }
 ],
 "metadata": {
  "kernelspec": {
   "display_name": "Cryptography",
   "language": "python",
   "name": "cryptography"
  },
  "language_info": {
   "codemirror_mode": {
    "name": "ipython",
    "version": 3
   },
   "file_extension": ".py",
   "mimetype": "text/x-python",
   "name": "python",
   "nbconvert_exporter": "python",
   "pygments_lexer": "ipython3",
   "version": "3.9.0"
  }
 },
 "nbformat": 4,
 "nbformat_minor": 2
}
